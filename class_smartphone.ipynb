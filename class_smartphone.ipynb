{
  "nbformat": 4,
  "nbformat_minor": 0,
  "metadata": {
    "colab": {
      "provenance": [],
      "authorship_tag": "ABX9TyMwRACQJPDE0MTGE7jIMqlG",
      "include_colab_link": true
    },
    "kernelspec": {
      "name": "python3",
      "display_name": "Python 3"
    },
    "language_info": {
      "name": "python"
    }
  },
  "cells": [
    {
      "cell_type": "markdown",
      "metadata": {
        "id": "view-in-github",
        "colab_type": "text"
      },
      "source": [
        "<a href=\"https://colab.research.google.com/github/MuhammadRioRefaldo/pbo2/blob/main/class_smartphone.ipynb\" target=\"_parent\"><img src=\"https://colab.research.google.com/assets/colab-badge.svg\" alt=\"Open In Colab\"/></a>"
      ]
    },
    {
      "cell_type": "code",
      "execution_count": 2,
      "metadata": {
        "colab": {
          "base_uri": "https://localhost:8080/"
        },
        "id": "sNsHcO2psQdb",
        "outputId": "72708f4f-4902-4325-b7af-24bc7cc98aa6"
      },
      "outputs": [
        {
          "output_type": "stream",
          "name": "stdout",
          "text": [
            "\n",
            "Merek Smartphone: Samsung\n",
            "Model: Galaxy S23\n",
            "RAM: 8 GB\n"
          ]
        }
      ],
      "source": [
        "class Smartphone:\n",
        "    def __init__(self):\n",
        "        self.merek = \"\"\n",
        "        self.model = \"\"\n",
        "        self.ram = 0\n",
        "\n",
        "\n",
        "def main_smartphone():\n",
        "    smartphone = Smartphone()\n",
        "    smartphone.merek = \"Samsung\"\n",
        "    smartphone.model = \"Galaxy S23\"\n",
        "    smartphone.ram = 8\n",
        "\n",
        "    print('\\nMerek Smartphone:', smartphone.merek)\n",
        "    print('Model:', smartphone.model)\n",
        "    print('RAM:', smartphone.ram, 'GB')\n",
        "\n",
        "\n",
        "if __name__ == '__main__':\n",
        "    main_smartphone()\n",
        "\n"
      ]
    }
  ]
}