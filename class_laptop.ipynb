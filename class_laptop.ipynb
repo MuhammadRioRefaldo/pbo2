{
  "nbformat": 4,
  "nbformat_minor": 0,
  "metadata": {
    "colab": {
      "provenance": [],
      "authorship_tag": "ABX9TyNEcWI5ZAkxfbKcNDtT8cy7",
      "include_colab_link": true
    },
    "kernelspec": {
      "name": "python3",
      "display_name": "Python 3"
    },
    "language_info": {
      "name": "python"
    }
  },
  "cells": [
    {
      "cell_type": "markdown",
      "metadata": {
        "id": "view-in-github",
        "colab_type": "text"
      },
      "source": [
        "<a href=\"https://colab.research.google.com/github/MuhammadRioRefaldo/pbo2/blob/main/class_laptop.ipynb\" target=\"_parent\"><img src=\"https://colab.research.google.com/assets/colab-badge.svg\" alt=\"Open In Colab\"/></a>"
      ]
    },
    {
      "cell_type": "code",
      "execution_count": 1,
      "metadata": {
        "colab": {
          "base_uri": "https://localhost:8080/"
        },
        "id": "wa0J1x2n0g-4",
        "outputId": "876e7fa9-f7d8-4eac-a458-da6cdefd8499"
      },
      "outputs": [
        {
          "output_type": "stream",
          "name": "stdout",
          "text": [
            "\n",
            "Merk Laptop: Asus\n",
            "Model: ROG Strix\n",
            "RAM: 16 GB\n"
          ]
        }
      ],
      "source": [
        "class Laptop:\n",
        "    def __init__(self):\n",
        "        self.merk = \"\"\n",
        "        self.model = \"\"\n",
        "        self.ram = 0\n",
        "\n",
        "\n",
        "def main_laptop():\n",
        "    laptop = Laptop()\n",
        "    laptop.merk = \"Asus\"\n",
        "    laptop.model = \"ROG Strix\"\n",
        "    laptop.ram = 16\n",
        "\n",
        "    print('\\nMerk Laptop:', laptop.merk)\n",
        "    print('Model:', laptop.model)\n",
        "    print('RAM:', laptop.ram, 'GB')\n",
        "\n",
        "\n",
        "if __name__ == '__main__':\n",
        "    main_laptop()\n"
      ]
    }
  ]
}