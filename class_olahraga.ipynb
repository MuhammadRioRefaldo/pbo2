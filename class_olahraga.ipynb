{
  "nbformat": 4,
  "nbformat_minor": 0,
  "metadata": {
    "colab": {
      "provenance": [],
      "authorship_tag": "ABX9TyMKPK2Vf1ru4Sk/aCgyBw87",
      "include_colab_link": true
    },
    "kernelspec": {
      "name": "python3",
      "display_name": "Python 3"
    },
    "language_info": {
      "name": "python"
    }
  },
  "cells": [
    {
      "cell_type": "markdown",
      "metadata": {
        "id": "view-in-github",
        "colab_type": "text"
      },
      "source": [
        "<a href=\"https://colab.research.google.com/github/MuhammadRioRefaldo/pbo2/blob/main/class_olahraga.ipynb\" target=\"_parent\"><img src=\"https://colab.research.google.com/assets/colab-badge.svg\" alt=\"Open In Colab\"/></a>"
      ]
    },
    {
      "cell_type": "code",
      "execution_count": 1,
      "metadata": {
        "colab": {
          "base_uri": "https://localhost:8080/"
        },
        "id": "sNsHcO2psQdb",
        "outputId": "8de0d5c7-9d4c-49be-d201-f80a71bdffa2"
      },
      "outputs": [
        {
          "output_type": "stream",
          "name": "stdout",
          "text": [
            "Nama Olahraga: Sepak Bola\n",
            "Jenis: Tim\n",
            "Jumlah Pemain: 11\n"
          ]
        }
      ],
      "source": [
        "class Olahraga:\n",
        "    def __init__(self):\n",
        "        self.nama = \"\"\n",
        "        self.jenis = \"\"\n",
        "        self.jumlah_pemain = 0\n",
        "\n",
        "\n",
        "def main():\n",
        "    olahraga = Olahraga()\n",
        "    olahraga.nama = \"Sepak Bola\"\n",
        "    olahraga.jenis = \"Tim\"\n",
        "    olahraga.jumlah_pemain = 11\n",
        "\n",
        "    print('Nama Olahraga:', olahraga.nama)\n",
        "    print('Jenis:', olahraga.jenis)\n",
        "    print('Jumlah Pemain:', olahraga.jumlah_pemain)\n",
        "\n",
        "\n",
        "if __name__ == '__main__':\n",
        "    main()\n"
      ]
    }
  ]
}