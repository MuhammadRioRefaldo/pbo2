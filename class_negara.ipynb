{
  "nbformat": 4,
  "nbformat_minor": 0,
  "metadata": {
    "colab": {
      "provenance": [],
      "authorship_tag": "ABX9TyMs4ofNjaMJh+mZr2zjzV/7",
      "include_colab_link": true
    },
    "kernelspec": {
      "name": "python3",
      "display_name": "Python 3"
    },
    "language_info": {
      "name": "python"
    }
  },
  "cells": [
    {
      "cell_type": "markdown",
      "metadata": {
        "id": "view-in-github",
        "colab_type": "text"
      },
      "source": [
        "<a href=\"https://colab.research.google.com/github/MuhammadRioRefaldo/pbo2/blob/main/class_negara.ipynb\" target=\"_parent\"><img src=\"https://colab.research.google.com/assets/colab-badge.svg\" alt=\"Open In Colab\"/></a>"
      ]
    },
    {
      "cell_type": "code",
      "execution_count": 1,
      "metadata": {
        "colab": {
          "base_uri": "https://localhost:8080/"
        },
        "id": "ZwrXKr4p2YJv",
        "outputId": "081417e7-46b9-47c1-96fd-279ba2118c06"
      },
      "outputs": [
        {
          "output_type": "stream",
          "name": "stdout",
          "text": [
            "\n",
            "Nama Negara: Indonesia\n",
            "Ibukota: Jakarta\n",
            "Populasi: 273000000\n"
          ]
        }
      ],
      "source": [
        "class Negara:\n",
        "    def __init__(self):\n",
        "        self.nama = \"\"\n",
        "        self.ibukota = \"\"\n",
        "        self.populasi = 0\n",
        "\n",
        "\n",
        "def main_negara():\n",
        "    negara = Negara()\n",
        "    negara.nama = \"Indonesia\"\n",
        "    negara.ibukota = \"Jakarta\"\n",
        "    negara.populasi = 273000000\n",
        "\n",
        "    print('\\nNama Negara:', negara.nama)\n",
        "    print('Ibukota:', negara.ibukota)\n",
        "    print('Populasi:', negara.populasi)\n",
        "\n",
        "\n",
        "if __name__ == '__main__':\n",
        "    main_negara()\n"
      ]
    }
  ]
}