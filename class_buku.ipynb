{
  "nbformat": 4,
  "nbformat_minor": 0,
  "metadata": {
    "colab": {
      "provenance": [],
      "authorship_tag": "ABX9TyN6Pf0zbEcXUS06vLYI66km",
      "include_colab_link": true
    },
    "kernelspec": {
      "name": "python3",
      "display_name": "Python 3"
    },
    "language_info": {
      "name": "python"
    }
  },
  "cells": [
    {
      "cell_type": "markdown",
      "metadata": {
        "id": "view-in-github",
        "colab_type": "text"
      },
      "source": [
        "<a href=\"https://colab.research.google.com/github/MuhammadRioRefaldo/pbo2/blob/main/class_buku.ipynb\" target=\"_parent\"><img src=\"https://colab.research.google.com/assets/colab-badge.svg\" alt=\"Open In Colab\"/></a>"
      ]
    },
    {
      "cell_type": "code",
      "execution_count": 1,
      "metadata": {
        "colab": {
          "base_uri": "https://localhost:8080/"
        },
        "id": "us-wwjGi11Yj",
        "outputId": "0a06d263-eaaf-4a44-c052-b6ede3135222"
      },
      "outputs": [
        {
          "output_type": "stream",
          "name": "stdout",
          "text": [
            "\n",
            "Judul Buku: Laskar Pelangi\n",
            "Pengarang: Andrea Hirata\n",
            "Tahun Terbit: 2005\n"
          ]
        }
      ],
      "source": [
        "class Buku:\n",
        "    def __init__(self):\n",
        "        self.judul = \"\"\n",
        "        self.pengarang = \"\"\n",
        "        self.tahun_terbit = 0\n",
        "\n",
        "\n",
        "def main_buku():\n",
        "    buku = Buku()\n",
        "    buku.judul = \"Laskar Pelangi\"\n",
        "    buku.pengarang = \"Andrea Hirata\"\n",
        "    buku.tahun_terbit = 2005\n",
        "\n",
        "    print('\\nJudul Buku:', buku.judul)\n",
        "    print('Pengarang:', buku.pengarang)\n",
        "    print('Tahun Terbit:', buku.tahun_terbit)\n",
        "\n",
        "\n",
        "if __name__ == '__main__':\n",
        "    main_buku()\n"
      ]
    }
  ]
}